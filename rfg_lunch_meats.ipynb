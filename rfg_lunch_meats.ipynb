{
 "cells": [
  {
   "cell_type": "code",
   "execution_count": 1,
   "id": "ea80ed82-7ae4-4e9f-8971-2bb745b6c887",
   "metadata": {},
   "outputs": [],
   "source": [
    "import pandas as pd"
   ]
  },
  {
   "cell_type": "code",
   "execution_count": 2,
   "id": "cb522d31-3c4f-40d5-80bc-c7d99f001648",
   "metadata": {},
   "outputs": [],
   "source": [
    "rfg_lunch_meats = pd.read_excel('/Users/fuqiaozhi/Desktop/UTD Semesters/Spring 2024/BUAN 6337/Conagra Data/Data/Rfg Lunch Meats_POS_2020.xlsx')\n",
    "rfg_lunch_meats2 = pd.read_excel('/Users/fuqiaozhi/Desktop/UTD Semesters/Spring 2024/BUAN 6337/Conagra Data/Data/Rfg Lunch Meats_POS_2021.xlsx')\n",
    "rfg_lunch_meats3 = pd.read_excel('/Users/fuqiaozhi/Desktop/UTD Semesters/Spring 2024/BUAN 6337/Conagra Data/Data/Rfg Lunch Meats_POS_2022.xlsx')\n",
    "rfg_lunch_meats4 = pd.read_excel('/Users/fuqiaozhi/Desktop/UTD Semesters/Spring 2024/BUAN 6337/Conagra Data/Data/Rfg Lunch Meats_POS_2023.xlsx')\n",
    "rfg_lunch_meats5 = pd.read_excel('/Users/fuqiaozhi/Desktop/UTD Semesters/Spring 2024/BUAN 6337/Conagra Data/Data/Rfg Lunch Meats_POS_2024.xlsx')\n",
    "product_attribute = pd.read_excel('/Users/fuqiaozhi/Desktop/UTD Semesters/Spring 2024/BUAN 6337/Conagra Cleaned Data/Product Attributes.xlsx')\n"
   ]
  },
  {
   "cell_type": "code",
   "execution_count": 3,
   "id": "eaaaa503-f7a1-44ab-a2ec-dd829ce40efb",
   "metadata": {},
   "outputs": [],
   "source": [
    "# Imputation\n",
    "def imputation_process(row):\n",
    "    row['Incremental Units'] = row['Unit Sales'] - row['Base Unit Sales']\n",
    "    row['Incremental Volume'] = row['Volume Sales'] - row['Base Volume Sales']\n",
    "    row['Incremental Dollars'] = row['Dollar Sales'] - row['Base Dollar Sales']\n",
    "    return row\n",
    "\n",
    "# Split Geography column and only save its location\n",
    "def extract_location(col):\n",
    "    return col.split(' - ')[0]\n",
    "\n",
    "# convert time into year month and day\n",
    "def parse_time(col):\n",
    "    # Year, month, day\n",
    "    sep_data = col.split('-')\n",
    "    year = int('20' + sep_data[2])\n",
    "    month = int(sep_data[0][-2:])\n",
    "    day = int(sep_data[1])\n",
    "    # Quarter of given date\n",
    "    quarter = (month - 1) // 3 + 1\n",
    "    return pd.Series([year, quarter, month], index = ['Year', 'Quarter', 'Month'])\n",
    "\n",
    "# Split product column and only save company name and product name\n",
    "def parse_product(col):  \n",
    "    return col.split(' - ')[0]\n",
    "\n",
    "\n",
    "# Based on length of company name, select product name\n",
    "def extract_product_name(full_string, brand_name):\n",
    "    brand_name_length = len(brand_name)\n",
    "    words = full_string[brand_name_length:].strip()\n",
    "    return words\n",
    "\n",
    "# # Arrange columns order\n",
    "def change_column_order(df):\n",
    "    final_order = [\n",
    "        'Geography', 'Year', 'Quarter', 'Month', 'Season', 'Manufacturer Name',\n",
    "        'Brand Name', 'Product Name', 'Flavor / Scent', 'Meat Source',\n",
    "        'Unit Sales', 'Volume Sales', 'Dollar Sales', 'Price per Unit', \n",
    "        'Price per Volume', 'Base Unit Sales', 'Base Volume Sales', 'Base Dollar Sales',\n",
    "        'Incremental Units', 'Incremental Volume', 'Incremental Dollars', \n",
    "        'ACV Weighted Distribution'\n",
    "    ]\n",
    "    return df[final_order]\n",
    "\n",
    "def merge_content(df1, df2):\n",
    "    combined = df1.merge(df2, how = 'left', on = 'Product')\n",
    "    return combined\n",
    "\n",
    "def map_season(month):\n",
    "    # Northern Hemisphere standard mapping\n",
    "    if month in [12, 1, 2]:\n",
    "        return 'Winter'\n",
    "    elif month in [3, 4, 5]:\n",
    "        return 'Spring'\n",
    "    elif month in [6, 7, 8]:\n",
    "        return 'Summer'\n",
    "    elif month in [9, 10, 11]:\n",
    "        return 'Fall'\n",
    "\n",
    "\n",
    "# Full tranform process\n",
    "def transform_data(df, df2):\n",
    "    table1 = merge_content(df, df2)\n",
    "    # Used customized function\n",
    "    table1['Geography'] = table1['Geography'].map(extract_location)\n",
    "    table1[['Year', 'Quarter', 'Month']] = table1['Time'].apply(parse_time)\n",
    "    table1['Product'] = table1['Product'].map(parse_product)\n",
    "    table1['Product Name'] = table1.apply(lambda row: extract_product_name(row['Product'], row['Brand Name']), axis=1)\n",
    "    #df['Product Name'] = df.apply(extract_product_name(df['Product'], df['Brand']), axis = 1)\n",
    "    \n",
    "    # Mapping quarter to seasonality\n",
    "    table1['Season'] = table1['Month'].apply(map_season)\n",
    "    # Change column order\n",
    "    transformed = change_column_order(table1).apply(imputation_process, axis = 1)\n",
    "    return transformed"
   ]
  },
  {
   "cell_type": "code",
   "execution_count": null,
   "id": "fa71b3df-f875-4086-bfb6-8487c7a6742c",
   "metadata": {},
   "outputs": [],
   "source": []
  },
  {
   "cell_type": "code",
   "execution_count": 4,
   "id": "e098e318-b5a6-430b-8fce-0bb1de32db68",
   "metadata": {},
   "outputs": [],
   "source": [
    "rfg_lunch_meats_2020 = transform_data(rfg_lunch_meats, product_attribute)\n",
    "rfg_lunch_meats_2021 = transform_data(rfg_lunch_meats2, product_attribute)\n",
    "rfg_lunch_meats_2022 = transform_data(rfg_lunch_meats3, product_attribute)\n",
    "rfg_lunch_meats_2023 = transform_data(rfg_lunch_meats4, product_attribute)\n",
    "rfg_lunch_meats_2024 = transform_data(rfg_lunch_meats5, product_attribute)"
   ]
  },
  {
   "cell_type": "code",
   "execution_count": 5,
   "id": "185a8163-a9f3-4f6a-b92d-140d439d02ec",
   "metadata": {
    "tags": []
   },
   "outputs": [],
   "source": [
    "# Combined & export\n",
    "full_rfg_lunch_mets = pd.concat([rfg_lunch_meats_2020, rfg_lunch_meats_2021, rfg_lunch_meats_2022, rfg_lunch_meats_2023, rfg_lunch_meats_2024])\n",
    "output_file = '/Users/fuqiaozhi/Desktop/UTD Semesters/Spring 2024/BUAN 6337/full_rfg_lunch_mets.csv'\n",
    "full_rfg_lunch_mets.to_csv(output_file, index=False)"
   ]
  }
 ],
 "metadata": {
  "kernelspec": {
   "display_name": "Python 3 (ipykernel)",
   "language": "python",
   "name": "python3"
  },
  "language_info": {
   "codemirror_mode": {
    "name": "ipython",
    "version": 3
   },
   "file_extension": ".py",
   "mimetype": "text/x-python",
   "name": "python",
   "nbconvert_exporter": "python",
   "pygments_lexer": "ipython3",
   "version": "3.11.5"
  }
 },
 "nbformat": 4,
 "nbformat_minor": 5
}
